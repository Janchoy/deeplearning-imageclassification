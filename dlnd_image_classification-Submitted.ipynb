{
 "cells": [
  {
   "cell_type": "markdown",
   "metadata": {
    "collapsed": true,
    "deletable": true,
    "editable": true
   },
   "source": [
    "# Image Classification\n",
    "In this project, you'll classify images from the [CIFAR-10 dataset](https://www.cs.toronto.edu/~kriz/cifar.html).  The dataset consists of airplanes, dogs, cats, and other objects. You'll preprocess the images, then train a convolutional neural network on all the samples. The images need to be normalized and the labels need to be one-hot encoded.  You'll get to apply what you learned and build a convolutional, max pooling, dropout, and fully connected layers.  At the end, you'll get to see your neural network's predictions on the sample images.\n",
    "## Get the Data\n",
    "Run the following cell to download the [CIFAR-10 dataset for python](https://www.cs.toronto.edu/~kriz/cifar-10-python.tar.gz)."
   ]
  },
  {
   "cell_type": "code",
   "execution_count": 252,
   "metadata": {
    "collapsed": false,
    "deletable": true,
    "editable": true
   },
   "outputs": [
    {
     "name": "stdout",
     "output_type": "stream",
     "text": [
      "All files found!\n"
     ]
    }
   ],
   "source": [
    "\"\"\"\n",
    "DON'T MODIFY ANYTHING IN THIS CELL THAT IS BELOW THIS LINE\n",
    "\"\"\"\n",
    "from urllib.request import urlretrieve\n",
    "from os.path import isfile, isdir\n",
    "from tqdm import tqdm\n",
    "import problem_unittests as tests\n",
    "import tarfile\n",
    "\n",
    "cifar10_dataset_folder_path = 'cifar-10-batches-py'\n",
    "\n",
    "class DLProgress(tqdm):\n",
    "    last_block = 0\n",
    "\n",
    "    def hook(self, block_num=1, block_size=1, total_size=None):\n",
    "        self.total = total_size\n",
    "        self.update((block_num - self.last_block) * block_size)\n",
    "        self.last_block = block_num\n",
    "\n",
    "if not isfile('cifar-10-python.tar.gz'):\n",
    "    with DLProgress(unit='B', unit_scale=True, miniters=1, desc='CIFAR-10 Dataset') as pbar:\n",
    "        urlretrieve(\n",
    "            'https://www.cs.toronto.edu/~kriz/cifar-10-python.tar.gz',\n",
    "            'cifar-10-python.tar.gz',\n",
    "            pbar.hook)\n",
    "\n",
    "if not isdir(cifar10_dataset_folder_path):\n",
    "    with tarfile.open('cifar-10-python.tar.gz') as tar:\n",
    "        tar.extractall()\n",
    "        tar.close()\n",
    "\n",
    "\n",
    "tests.test_folder_path(cifar10_dataset_folder_path)"
   ]
  },
  {
   "cell_type": "markdown",
   "metadata": {
    "deletable": true,
    "editable": true
   },
   "source": [
    "## Explore the Data\n",
    "The dataset is broken into batches to prevent your machine from running out of memory.  The CIFAR-10 dataset consists of 5 batches, named `data_batch_1`, `data_batch_2`, etc.. Each batch contains the labels and images that are one of the following:\n",
    "* airplane\n",
    "* automobile\n",
    "* bird\n",
    "* cat\n",
    "* deer\n",
    "* dog\n",
    "* frog\n",
    "* horse\n",
    "* ship\n",
    "* truck\n",
    "\n",
    "Understanding a dataset is part of making predictions on the data.  Play around with the code cell below by changing the `batch_id` and `sample_id`. The `batch_id` is the id for a batch (1-5). The `sample_id` is the id for a image and label pair in the batch.\n",
    "\n",
    "Ask yourself \"What are all possible labels?\", \"What is the range of values for the image data?\", \"Are the labels in order or random?\".  Answers to questions like these will help you preprocess the data and end up with better predictions."
   ]
  },
  {
   "cell_type": "code",
   "execution_count": 253,
   "metadata": {
    "collapsed": false,
    "deletable": true,
    "editable": true
   },
   "outputs": [
    {
     "name": "stdout",
     "output_type": "stream",
     "text": [
      "\n",
      "Stats of batch 2:\n",
      "Samples: 10000\n",
      "Label Counts: {0: 984, 1: 1007, 2: 1010, 3: 995, 4: 1010, 5: 988, 6: 1008, 7: 1026, 8: 987, 9: 985}\n",
      "First 20 Labels: [1, 6, 6, 8, 8, 3, 4, 6, 0, 6, 0, 3, 6, 6, 5, 4, 8, 3, 2, 6]\n",
      "\n",
      "Example of Image 5:\n",
      "Image - Min Value: 3 Max Value: 219\n",
      "Image - Shape: (32, 32, 3)\n",
      "Label - Label Id: 3 Name: cat\n"
     ]
    },
    {
     "data": {
      "image/png": "[encoded data removed]",
      "text/plain": [
       "<matplotlib.figure.Figure at 0x7fa6a5575c50>"
      ]
     },
     "metadata": {
      "image/png": {
       "height": 250,
       "width": 253
      }
     },
     "output_type": "display_data"
    }
   ],
   "source": [
    "%matplotlib inline\n",
    "%config InlineBackend.figure_format = 'retina'\n",
    "\n",
    "import helper\n",
    "import numpy as np\n",
    "\n",
    "# Explore the dataset\n",
    "batch_id = 2\n",
    "sample_id = 5\n",
    "helper.display_stats(cifar10_dataset_folder_path, batch_id, sample_id)"
   ]
  },
  {
   "cell_type": "markdown",
   "metadata": {
    "deletable": true,
    "editable": true
   },
   "source": [
    "## Implement Preprocess Functions\n",
    "### Normalize\n",
    "In the cell below, implement the `normalize` function to take in image data, `x`, and return it as a normalized Numpy array. The values should be in the range of 0 to 1, inclusive.  The return object should be the same shape as `x`."
   ]
  },
  {
   "cell_type": "code",
   "execution_count": 254,
   "metadata": {
    "collapsed": false,
    "deletable": true,
    "editable": true
   },
   "outputs": [
    {
     "name": "stdout",
     "output_type": "stream",
     "text": [
      "Tests Passed\n"
     ]
    }
   ],
   "source": [
    "def normalize(x):\n",
    "    \"\"\"\n",
    "    Normalize a list of sample image data in the range of 0 to 1\n",
    "    : x: List of image data.  The image shape is (32, 32, 3)\n",
    "    : return: Numpy array of normalize data\n",
    "    \"\"\"\n",
    "    # TODO: Implement Function\n",
    "    \n",
    "    #return x/x.max(axis=0)\n",
    "    #return np.array(x/255)\n",
    "    return np.array (x / x.max())\n",
    "\n",
    "\n",
    "\"\"\"\n",
    "DON'T MODIFY ANYTHING IN THIS CELL THAT IS BELOW THIS LINE\n",
    "\"\"\"\n",
    "tests.test_normalize(normalize)"
   ]
  },
  {
   "cell_type": "markdown",
   "metadata": {
    "deletable": true,
    "editable": true
   },
   "source": [
    "### One-hot encode\n",
    "Just like the previous code cell, you'll be implementing a function for preprocessing.  This time, you'll implement the `one_hot_encode` function. The input, `x`, are a list of labels.  Implement the function to return the list of labels as One-Hot encoded Numpy array.  The possible values for labels are 0 to 9. The one-hot encoding function should return the same encoding for each value between each call to `one_hot_encode`.  Make sure to save the map of encodings outside the function.\n",
    "\n",
    "Hint: Don't reinvent the wheel."
   ]
  },
  {
   "cell_type": "code",
   "execution_count": 255,
   "metadata": {
    "collapsed": false,
    "deletable": true,
    "editable": true
   },
   "outputs": [
    {
     "name": "stdout",
     "output_type": "stream",
     "text": [
      "Tests Passed\n"
     ]
    }
   ],
   "source": [
    "def one_hot_encode(x):\n",
    "    \"\"\"\n",
    "    One hot encode a list of sample labels. Return a one-hot encoded vector for each label.\n",
    "    : x: List of sample Labels\n",
    "    : return: Numpy array of one-hot encoded labels\n",
    "    \"\"\"\n",
    "    # TODO: Implement Function\n",
    "    return np.eye(10)[x]\n",
    "\n",
    "\"\"\"\n",
    "DON'T MODIFY ANYTHING IN THIS CELL THAT IS BELOW THIS LINE\n",
    "\"\"\"\n",
    "tests.test_one_hot_encode(one_hot_encode)"
   ]
  },
  {
   "cell_type": "markdown",
   "metadata": {
    "deletable": true,
    "editable": true
   },
   "source": [
    "### Randomize Data\n",
    "As you saw from exploring the data above, the order of the samples are randomized.  It doesn't hurt to randomize it again, but you don't need to for this dataset."
   ]
  },
  {
   "cell_type": "markdown",
   "metadata": {
    "deletable": true,
    "editable": true
   },
   "source": [
    "## Preprocess all the data and save it\n",
    "Running the code cell below will preprocess all the CIFAR-10 data and save it to file. The code below also uses 10% of the training data for validation."
   ]
  },
  {
   "cell_type": "code",
   "execution_count": 256,
   "metadata": {
    "collapsed": false,
    "deletable": true,
    "editable": true
   },
   "outputs": [],
   "source": [
    "\"\"\"\n",
    "DON'T MODIFY ANYTHING IN THIS CELL\n",
    "\"\"\"\n",
    "# Preprocess Training, Validation, and Testing Data\n",
    "helper.preprocess_and_save_data(cifar10_dataset_folder_path, normalize, one_hot_encode)"
   ]
  },
  {
   "cell_type": "markdown",
   "metadata": {
    "deletable": true,
    "editable": true
   },
   "source": [
    "# Check Point\n",
    "This is your first checkpoint.  If you ever decide to come back to this notebook or have to restart the notebook, you can start from here.  The preprocessed data has been saved to disk."
   ]
  },
  {
   "cell_type": "code",
   "execution_count": 257,
   "metadata": {
    "collapsed": true,
    "deletable": true,
    "editable": true
   },
   "outputs": [],
   "source": [
    "\"\"\"\n",
    "DON'T MODIFY ANYTHING IN THIS CELL\n",
    "\"\"\"\n",
    "import pickle\n",
    "import problem_unittests as tests\n",
    "import helper\n",
    "\n",
    "# Load the Preprocessed Validation data\n",
    "valid_features, valid_labels = pickle.load(open('preprocess_validation.p', mode='rb'))"
   ]
  },
  {
   "cell_type": "markdown",
   "metadata": {
    "deletable": true,
    "editable": true
   },
   "source": [
    "## Build the network\n",
    "For the neural network, you'll build each layer into a function.  Most of the code you've seen has been outside of functions. To test your code more thoroughly, we require that you put each layer in a function.  This allows us to give you better feedback and test for simple mistakes using our unittests before you submit your project.\n",
    "\n",
    ">**Note:** If you're finding it hard to dedicate enough time for this course each week, we've provided a small shortcut to this part of the project. In the next couple of problems, you'll have the option to use classes from the [TensorFlow Layers](https://www.tensorflow.org/api_docs/python/tf/layers) or [TensorFlow Layers (contrib)](https://www.tensorflow.org/api_guides/python/contrib.layers) packages to build each layer, except the layers you build in the \"Convolutional and Max Pooling Layer\" section.  TF Layers is similar to Keras's and TFLearn's abstraction to layers, so it's easy to pickup.\n",
    "\n",
    ">However, if you would like to get the most out of this course, try to solve all the problems _without_ using anything from the TF Layers packages. You **can** still use classes from other packages that happen to have the same name as ones you find in TF Layers! For example, instead of using the TF Layers version of the `conv2d` class, [tf.layers.conv2d](https://www.tensorflow.org/api_docs/python/tf/layers/conv2d), you would want to use the TF Neural Network version of `conv2d`, [tf.nn.conv2d](https://www.tensorflow.org/api_docs/python/tf/nn/conv2d). \n",
    "\n",
    "Let's begin!\n",
    "\n",
    "### Input\n",
    "The neural network needs to read the image data, one-hot encoded labels, and dropout keep probability. Implement the following functions\n",
    "* Implement `neural_net_image_input`\n",
    " * Return a [TF Placeholder](https://www.tensorflow.org/api_docs/python/tf/placeholder)\n",
    " * Set the shape using `image_shape` with batch size set to `None`.\n",
    " * Name the TensorFlow placeholder \"x\" using the TensorFlow `name` parameter in the [TF Placeholder](https://www.tensorflow.org/api_docs/python/tf/placeholder).\n",
    "* Implement `neural_net_label_input`\n",
    " * Return a [TF Placeholder](https://www.tensorflow.org/api_docs/python/tf/placeholder)\n",
    " * Set the shape using `n_classes` with batch size set to `None`.\n",
    " * Name the TensorFlow placeholder \"y\" using the TensorFlow `name` parameter in the [TF Placeholder](https://www.tensorflow.org/api_docs/python/tf/placeholder).\n",
    "* Implement `neural_net_keep_prob_input`\n",
    " * Return a [TF Placeholder](https://www.tensorflow.org/api_docs/python/tf/placeholder) for dropout keep probability.\n",
    " * Name the TensorFlow placeholder \"keep_prob\" using the TensorFlow `name` parameter in the [TF Placeholder](https://www.tensorflow.org/api_docs/python/tf/placeholder).\n",
    "\n",
    "These names will be used at the end of the project to load your saved model.\n",
    "\n",
    "Note: `None` for shapes in TensorFlow allow for a dynamic size."
   ]
  },
  {
   "cell_type": "code",
   "execution_count": 258,
   "metadata": {
    "collapsed": false,
    "deletable": true,
    "editable": true
   },
   "outputs": [
    {
     "name": "stdout",
     "output_type": "stream",
     "text": [
      "Image Input Tests Passed.\n",
      "Label Input Tests Passed.\n",
      "Keep Prob Tests Passed.\n"
     ]
    }
   ],
   "source": [
    "import tensorflow as tf\n",
    "\n",
    "def neural_net_image_input(image_shape):\n",
    "    \"\"\"\n",
    "    Return a Tensor for a bach of image input\n",
    "    : image_shape: Shape of the images\n",
    "    : return: Tensor for image input.\n",
    "    \"\"\"\n",
    "    # TODO: Implement Function\n",
    "    return tf.placeholder(tf.float32, shape=[None]+list(image_shape), name = 'x')\n",
    "    #return tf.placeholder(tf.float32,shape=[None,*image_shape],name='x')\n",
    "\n",
    "\n",
    "def neural_net_label_input(n_classes):\n",
    "    \"\"\"\n",
    "    Return a Tensor for a batch of label input\n",
    "    : n_classes: Number of classes\n",
    "    : return: Tensor for label input.\n",
    "    \"\"\"\n",
    "    # TODO: Implement Function\n",
    "    return tf.placeholder(tf.float32,shape=(None,n_classes), name='y')\n",
    "\n",
    "\n",
    "\n",
    "\n",
    "def neural_net_keep_prob_input():\n",
    "    \"\"\"\n",
    "    Return a Tensor for keep probability\n",
    "    : return: Tensor for keep probability.\n",
    "    \"\"\"\n",
    "    # TODO: Implement Function\n",
    "    return tf.placeholder(tf.float32,name='keep_prob')\n",
    "\n",
    "\n",
    "\"\"\"\n",
    "DON'T MODIFY ANYTHING IN THIS CELL THAT IS BELOW THIS LINE\n",
    "\"\"\"\n",
    "tf.reset_default_graph()\n",
    "tests.test_nn_image_inputs(neural_net_image_input)\n",
    "tests.test_nn_label_inputs(neural_net_label_input)\n",
    "tests.test_nn_keep_prob_inputs(neural_net_keep_prob_input)"
   ]
  },
  {
   "cell_type": "markdown",
   "metadata": {
    "deletable": true,
    "editable": true
   },
   "source": [
    "### Convolution and Max Pooling Layer\n",
    "Convolution layers have a lot of success with images. For this code cell, you should implement the function `conv2d_maxpool` to apply convolution then max pooling:\n",
    "* Create the weight and bias using `conv_ksize`, `conv_num_outputs` and the shape of `x_tensor`.\n",
    "* Apply a convolution to `x_tensor` using weight and `conv_strides`.\n",
    " * We recommend you use same padding, but you're welcome to use any padding.\n",
    "* Add bias\n",
    "* Add a nonlinear activation to the convolution.\n",
    "* Apply Max Pooling using `pool_ksize` and `pool_strides`.\n",
    " * We recommend you use same padding, but you're welcome to use any padding.\n",
    "\n",
    "**Note:** You **can't** use [TensorFlow Layers](https://www.tensorflow.org/api_docs/python/tf/layers) or [TensorFlow Layers (contrib)](https://www.tensorflow.org/api_guides/python/contrib.layers) for **this** layer, but you can still use TensorFlow's [Neural Network](https://www.tensorflow.org/api_docs/python/tf/nn) package. You may still use the shortcut option for all the **other** layers."
   ]
  },
  {
   "cell_type": "code",
   "execution_count": 260,
   "metadata": {
    "collapsed": false,
    "deletable": true,
    "editable": true
   },
   "outputs": [
    {
     "name": "stdout",
     "output_type": "stream",
     "text": [
      "Tests Passed\n"
     ]
    }
   ],
   "source": [
    "def conv2d_maxpool(x_tensor, conv_num_outputs, conv_ksize, conv_strides, pool_ksize, pool_strides):\n",
    "    \"\"\"\n",
    "    Apply convolution then max pooling to x_tensor\n",
    "    :param x_tensor: TensorFlow Tensor\n",
    "    :param conv_num_outputs: Number of outputs for the convolutional layer\n",
    "    :param conv_ksize: kernal size 2-D Tuple for the convolutional layer\n",
    "    :param conv_strides: Stride 2-D Tuple for convolution\n",
    "    :param pool_ksize: kernal size 2-D Tuple for pool\n",
    "    :param pool_strides: Stride 2-D Tuple for pool\n",
    "    : return: A tensor that represents convolution and max pooling of x_tensor\n",
    "    \"\"\"\n",
    "    \n",
    "    # TODO: Implement Function\n",
    "    weights = tf.Variable(tf.random_normal([conv_ksize[0], conv_ksize[1], int(x_tensor.shape[3]), conv_num_outputs], stddev=0.05, mean=0))\n",
    "    bias = tf.Variable(tf.zeros(conv_num_outputs))\n",
    "\n",
    "   \n",
    "    conv_layer = tf.nn.conv2d(x_tensor, weights, [1,conv_strides[0],conv_strides[1],1], padding='SAME',name='Conv2D')\n",
    "    conv_layer = tf.nn.bias_add(conv_layer,bias)\n",
    "    conv_layer = tf.nn.relu(conv_layer,name='Conv2D_Relu')\n",
    "    \n",
    "    max_pool_layer = tf.nn.max_pool(conv_layer, ksize=[1,pool_ksize[0], pool_ksize[0],1], strides=[1,pool_strides[0],pool_strides[0],1], padding='SAME',name='MaxPool')\n",
    "\n",
    "    return max_pool_layer\n",
    "\n",
    "\n",
    "\"\"\"\n",
    "DON'T MODIFY ANYTHING IN THIS CELL THAT IS BELOW THIS LINE\n",
    "\"\"\"\n",
    "tests.test_con_pool(conv2d_maxpool)"
   ]
  },
  {
   "cell_type": "markdown",
   "metadata": {
    "deletable": true,
    "editable": true
   },
   "source": [
    "### Flatten Layer\n",
    "Implement the `flatten` function to change the dimension of `x_tensor` from a 4-D tensor to a 2-D tensor.  The output should be the shape (*Batch Size*, *Flattened Image Size*). Shortcut option: you can use classes from the [TensorFlow Layers](https://www.tensorflow.org/api_docs/python/tf/layers) or [TensorFlow Layers (contrib)](https://www.tensorflow.org/api_guides/python/contrib.layers) packages for this layer. For more of a challenge, only use other TensorFlow packages."
   ]
  },
  {
   "cell_type": "code",
   "execution_count": 261,
   "metadata": {
    "collapsed": false,
    "deletable": true,
    "editable": true
   },
   "outputs": [
    {
     "name": "stdout",
     "output_type": "stream",
     "text": [
      "Tests Passed\n"
     ]
    }
   ],
   "source": [
    "def flatten(x_tensor):\n",
    "    \"\"\"\n",
    "    Flatten x_tensor to (Batch Size, Flattened Image Size)\n",
    "    : x_tensor: A tensor of size (Batch Size, ...), where ... are the image dimensions.\n",
    "    : return: A tensor of size (Batch Size, Flattened Image Size).\n",
    "    \"\"\"\n",
    "    # TODO: Implement Function\n",
    "    shape = x_tensor.get_shape().as_list() \n",
    "    length = int(shape[1]*shape[2]*shape[3])\n",
    "    return tf.reshape(x_tensor, [-1, length])\n",
    "\n",
    "\n",
    "\n",
    "\"\"\"\n",
    "DON'T MODIFY ANYTHING IN THIS CELL THAT IS BELOW THIS LINE\n",
    "\"\"\"\n",
    "tests.test_flatten(flatten)"
   ]
  },
  {
   "cell_type": "markdown",
   "metadata": {
    "deletable": true,
    "editable": true
   },
   "source": [
    "### Fully-Connected Layer\n",
    "Implement the `fully_conn` function to apply a fully connected layer to `x_tensor` with the shape (*Batch Size*, *num_outputs*). Shortcut option: you can use classes from the [TensorFlow Layers](https://www.tensorflow.org/api_docs/python/tf/layers) or [TensorFlow Layers (contrib)](https://www.tensorflow.org/api_guides/python/contrib.layers) packages for this layer. For more of a challenge, only use other TensorFlow packages."
   ]
  },
  {
   "cell_type": "code",
   "execution_count": 262,
   "metadata": {
    "collapsed": false,
    "deletable": true,
    "editable": true
   },
   "outputs": [
    {
     "name": "stdout",
     "output_type": "stream",
     "text": [
      "Tests Passed\n"
     ]
    }
   ],
   "source": [
    "def fully_conn(x_tensor, num_outputs):\n",
    "    \"\"\"\n",
    "    Apply a fully connected layer to x_tensor using weight and bias\n",
    "    : x_tensor: A 2-D tensor where the first dimension is batch size.\n",
    "    : num_outputs: The number of output that the new tensor should be.\n",
    "    : return: A 2-D tensor where the second dimension is num_outputs.\n",
    "    \"\"\"\n",
    "    # TODO: Implement Function\n",
    "    \n",
    "\n",
    "    weights = tf.Variable(tf.truncated_normal([x_tensor.get_shape().as_list()[1], num_outputs]))\n",
    "    bias = tf.zeros(num_outputs)\n",
    "    \n",
    "    fc = tf.matmul(x_tensor, weights, name='FC_matmul')\n",
    "    fc = tf.add(fc, bias, name='FC_add')\n",
    "    return fc\n",
    "\n",
    "\n",
    "\"\"\"\n",
    "DON'T MODIFY ANYTHING IN THIS CELL THAT IS BELOW THIS LINE\n",
    "\"\"\"\n",
    "tests.test_fully_conn(fully_conn)"
   ]
  },
  {
   "cell_type": "markdown",
   "metadata": {
    "deletable": true,
    "editable": true
   },
   "source": [
    "### Output Layer\n",
    "Implement the `output` function to apply a fully connected layer to `x_tensor` with the shape (*Batch Size*, *num_outputs*). Shortcut option: you can use classes from the [TensorFlow Layers](https://www.tensorflow.org/api_docs/python/tf/layers) or [TensorFlow Layers (contrib)](https://www.tensorflow.org/api_guides/python/contrib.layers) packages for this layer. For more of a challenge, only use other TensorFlow packages.\n",
    "\n",
    "**Note:** Activation, softmax, or cross entropy should **not** be applied to this."
   ]
  },
  {
   "cell_type": "code",
   "execution_count": 263,
   "metadata": {
    "collapsed": false,
    "deletable": true,
    "editable": true
   },
   "outputs": [
    {
     "name": "stdout",
     "output_type": "stream",
     "text": [
      "Tests Passed\n"
     ]
    }
   ],
   "source": [
    "def output(x_tensor, num_outputs):\n",
    "    \"\"\"\n",
    "    Apply a output layer to x_tensor using weight and bias\n",
    "    : x_tensor: A 2-D tensor where the first dimension is batch size.\n",
    "    : num_outputs: The number of output that the new tensor should be.\n",
    "    : return: A 2-D tensor where the second dimension is num_outputs.\n",
    "    \"\"\"\n",
    "    # TODO: Implement Function\n",
    "\n",
    "    \n",
    "    weights = tf.Variable(tf.truncated_normal([x_tensor.get_shape().as_list()[1], num_outputs], stddev=0.5, mean=0))\n",
    "    bias = tf.zeros(num_outputs)\n",
    "    \n",
    "    output = tf.matmul(x_tensor, weights, name='out_matmul')\n",
    "    output = tf.add(output, bias,name='out_add')\n",
    "    return output\n",
    "\n",
    "\n",
    "\n",
    "\"\"\"\n",
    "DON'T MODIFY ANYTHING IN THIS CELL THAT IS BELOW THIS LINE\n",
    "\"\"\"\n",
    "tests.test_output(output)"
   ]
  },
  {
   "cell_type": "markdown",
   "metadata": {
    "deletable": true,
    "editable": true
   },
   "source": [
    "### Create Convolutional Model\n",
    "Implement the function `conv_net` to create a convolutional neural network model. The function takes in a batch of images, `x`, and outputs logits.  Use the layers you created above to create this model:\n",
    "\n",
    "* Apply 1, 2, or 3 Convolution and Max Pool layers\n",
    "* Apply a Flatten Layer\n",
    "* Apply 1, 2, or 3 Fully Connected Layers\n",
    "* Apply an Output Layer\n",
    "* Return the output\n",
    "* Apply [TensorFlow's Dropout](https://www.tensorflow.org/api_docs/python/tf/nn/dropout) to one or more layers in the model using `keep_prob`. "
   ]
  },
  {
   "cell_type": "code",
   "execution_count": 279,
   "metadata": {
    "collapsed": false,
    "deletable": true,
    "editable": true
   },
   "outputs": [
    {
     "name": "stdout",
     "output_type": "stream",
     "text": [
      "Neural Network Built!\n"
     ]
    }
   ],
   "source": [
    "def conv_net(x, keep_prob):\n",
    "    \"\"\"\n",
    "    Create a convolutional neural network model\n",
    "    : x: Placeholder tensor that holds image data.\n",
    "    : keep_prob: Placeholder tensor that hold dropout keep probability.\n",
    "    : return: Tensor that represents logits\n",
    "    \"\"\"\n",
    "\n",
    "    # TODO: Apply 1, 2, or 3 Convolution and Max Pool layers\n",
    "    #    Play around with different number of outputs, kernel size and stride\n",
    "    # Function Definition from Above:\n",
    "    #    conv2d_maxpool(x_tensor, conv_num_outputs, conv_ksize, conv_strides, pool_ksize, pool_strides)\n",
    "\n",
    "    \n",
    "    conv1 = conv2d_maxpool(x, 16, (3,3), (1,1), (3,3), (1,1))\n",
    "    conv2 = conv2d_maxpool(conv1, 32, (2,2), (1,1), (2,2), (1,1))\n",
    "    conv3 = conv2d_maxpool(conv2, 32, (2,2), (1,1), (2,2), (1,1))\n",
    "    \n",
    "    # TODO: Apply a Flatten Layer\n",
    "    flat = flatten(conv3)\n",
    "    \n",
    "    # TODO: Apply 1, 2, or 3 Fully Connected Layers\n",
    "    #    Play around with different number of outputs\n",
    "    # Function Definition from Above:\n",
    "    #   fully_conn(x_tensor, num_outputs)\n",
    "    fc = fully_conn(flat, 384)\n",
    "    fc = tf.nn.dropout(fc, keep_prob)\n",
    "    fc = fully_conn(flat, 192)\n",
    "    fc = tf.nn.dropout(fc, keep_prob)\n",
    "    fc = fully_conn(flat, 96)\n",
    "\n",
    "    # TODO: return output\n",
    "    return output(fc, 10)\n",
    "    \n",
    "    \n",
    "\n",
    "\n",
    "\n",
    "\"\"\"\n",
    "DON'T MODIFY ANYTHING IN THIS CELL THAT IS BELOW THIS LINE\n",
    "\"\"\"\n",
    "\n",
    "##############################\n",
    "## Build the Neural Network ##\n",
    "##############################\n",
    "\n",
    "# Remove previous weights, bias, inputs, etc..\n",
    "tf.reset_default_graph()\n",
    "\n",
    "# Inputs\n",
    "x = neural_net_image_input((32, 32, 3))\n",
    "y = neural_net_label_input(10)\n",
    "keep_prob = neural_net_keep_prob_input()\n",
    "\n",
    "# Model\n",
    "logits = conv_net(x, keep_prob)\n",
    "\n",
    "# Name logits Tensor, so that is can be loaded from disk after training\n",
    "logits = tf.identity(logits, name='logits')\n",
    "\n",
    "# Loss and Optimizer\n",
    "cost = tf.reduce_mean(tf.nn.softmax_cross_entropy_with_logits(logits=logits, labels=y))\n",
    "optimizer = tf.train.AdamOptimizer().minimize(cost)\n",
    "\n",
    "# Accuracy\n",
    "correct_pred = tf.equal(tf.argmax(logits, 1), tf.argmax(y, 1))\n",
    "accuracy = tf.reduce_mean(tf.cast(correct_pred, tf.float32), name='accuracy')\n",
    "\n",
    "tests.test_conv_net(conv_net)"
   ]
  },
  {
   "cell_type": "markdown",
   "metadata": {
    "deletable": true,
    "editable": true
   },
   "source": [
    "## Train the Neural Network\n",
    "### Single Optimization\n",
    "Implement the function `train_neural_network` to do a single optimization.  The optimization should use `optimizer` to optimize in `session` with a `feed_dict` of the following:\n",
    "* `x` for image input\n",
    "* `y` for labels\n",
    "* `keep_prob` for keep probability for dropout\n",
    "\n",
    "This function will be called for each batch, so `tf.global_variables_initializer()` has already been called.\n",
    "\n",
    "Note: Nothing needs to be returned. This function is only optimizing the neural network."
   ]
  },
  {
   "cell_type": "code",
   "execution_count": 280,
   "metadata": {
    "collapsed": false,
    "deletable": true,
    "editable": true
   },
   "outputs": [
    {
     "name": "stdout",
     "output_type": "stream",
     "text": [
      "Tests Passed\n"
     ]
    }
   ],
   "source": [
    "def train_neural_network(session, optimizer, keep_probability, feature_batch, label_batch):\n",
    "    \"\"\"\n",
    "    Optimize the session on a batch of images and labels\n",
    "    : session: Current TensorFlow session\n",
    "    : optimizer: TensorFlow optimizer function\n",
    "    : keep_probability: keep probability\n",
    "    : feature_batch: Batch of Numpy image data\n",
    "    : label_batch: Batch of Numpy label data\n",
    "    \"\"\"\n",
    "    # TODO: Implement Function\n",
    "   \n",
    "    session.run(optimizer, feed_dict={x: feature_batch, y: label_batch, keep_prob: keep_probability})\n",
    "\n",
    "\"\"\"\n",
    "DON'T MODIFY ANYTHING IN THIS CELL THAT IS BELOW THIS LINE\n",
    "\"\"\"\n",
    "tests.test_train_nn(train_neural_network)"
   ]
  },
  {
   "cell_type": "markdown",
   "metadata": {
    "deletable": true,
    "editable": true
   },
   "source": [
    "### Show Stats\n",
    "Implement the function `print_stats` to print loss and validation accuracy.  Use the global variables `valid_features` and `valid_labels` to calculate validation accuracy.  Use a keep probability of `1.0` to calculate the loss and validation accuracy."
   ]
  },
  {
   "cell_type": "code",
   "execution_count": 281,
   "metadata": {
    "collapsed": false,
    "deletable": true,
    "editable": true
   },
   "outputs": [],
   "source": [
    "def print_stats(session, feature_batch, label_batch, cost, accuracy):\n",
    "    \"\"\"\n",
    "    Print information about loss and validation accuracy\n",
    "    : session: Current TensorFlow session\n",
    "    : feature_batch: Batch of Numpy image data\n",
    "    : label_batch: Batch of Numpy label data\n",
    "    : cost: TensorFlow cost function\n",
    "    : accuracy: TensorFlow accuracy function\n",
    "    \"\"\"\n",
    "    # TODO: Implement Function  \n",
    "    loss = session.run(cost, feed_dict={x: feature_batch, y: label_batch, keep_prob: 1.0})\n",
    "    acc = session.run(accuracy, feed_dict={x: valid_features, y: valid_labels, keep_prob: 1.0})\n",
    "    print('Loss: {:>10.4f} Accuracy: {:.5f}'.format(loss,acc))\n",
    "     \n",
    "\n"
   ]
  },
  {
   "cell_type": "markdown",
   "metadata": {
    "deletable": true,
    "editable": true
   },
   "source": [
    "### Hyperparameters\n",
    "Tune the following parameters:\n",
    "* Set `epochs` to the number of iterations until the network stops learning or start overfitting\n",
    "* Set `batch_size` to the highest number that your machine has memory for.  Most people set them to common sizes of memory:\n",
    " * 64\n",
    " * 128\n",
    " * 256\n",
    " * ...\n",
    "* Set `keep_probability` to the probability of keeping a node using dropout"
   ]
  },
  {
   "cell_type": "code",
   "execution_count": 282,
   "metadata": {
    "collapsed": true,
    "deletable": true,
    "editable": true
   },
   "outputs": [],
   "source": [
    "# TODO: Tune Parameters\n",
    "epochs = 50\n",
    "batch_size = 1024\n",
    "keep_probability = 0.5"
   ]
  },
  {
   "cell_type": "markdown",
   "metadata": {
    "deletable": true,
    "editable": true
   },
   "source": [
    "### Train on a Single CIFAR-10 Batch\n",
    "Instead of training the neural network on all the CIFAR-10 batches of data, let's use a single batch. This should save time while you iterate on the model to get a better accuracy.  Once the final validation accuracy is 50% or greater, run the model on all the data in the next section."
   ]
  },
  {
   "cell_type": "code",
   "execution_count": 283,
   "metadata": {
    "collapsed": false,
    "deletable": true,
    "editable": true
   },
   "outputs": [
    {
     "name": "stdout",
     "output_type": "stream",
     "text": [
      "Checking the Training on a Single Batch...\n",
      "Epoch  1, CIFAR-10 Batch 1:  Loss:     3.5317 Accuracy: 0.10600\n",
      "Epoch  2, CIFAR-10 Batch 1:  Loss:     2.3976 Accuracy: 0.12440\n",
      "Epoch  3, CIFAR-10 Batch 1:  Loss:     2.2721 Accuracy: 0.16200\n",
      "Epoch  4, CIFAR-10 Batch 1:  Loss:     2.1856 Accuracy: 0.18940\n",
      "Epoch  5, CIFAR-10 Batch 1:  Loss:     2.1117 Accuracy: 0.21880\n",
      "Epoch  6, CIFAR-10 Batch 1:  Loss:     1.9975 Accuracy: 0.25440\n",
      "Epoch  7, CIFAR-10 Batch 1:  Loss:     1.9156 Accuracy: 0.28160\n",
      "Epoch  8, CIFAR-10 Batch 1:  Loss:     1.8264 Accuracy: 0.32100\n",
      "Epoch  9, CIFAR-10 Batch 1:  Loss:     1.7499 Accuracy: 0.35360\n",
      "Epoch 10, CIFAR-10 Batch 1:  Loss:     1.6900 Accuracy: 0.37680\n",
      "Epoch 11, CIFAR-10 Batch 1:  Loss:     1.6556 Accuracy: 0.39140\n",
      "Epoch 12, CIFAR-10 Batch 1:  Loss:     1.6165 Accuracy: 0.39940\n",
      "Epoch 13, CIFAR-10 Batch 1:  Loss:     1.5716 Accuracy: 0.41320\n",
      "Epoch 14, CIFAR-10 Batch 1:  Loss:     1.5360 Accuracy: 0.42020\n",
      "Epoch 15, CIFAR-10 Batch 1:  Loss:     1.5059 Accuracy: 0.42640\n",
      "Epoch 16, CIFAR-10 Batch 1:  Loss:     1.4846 Accuracy: 0.43000\n",
      "Epoch 17, CIFAR-10 Batch 1:  Loss:     1.4503 Accuracy: 0.43780\n",
      "Epoch 18, CIFAR-10 Batch 1:  Loss:     1.4189 Accuracy: 0.44840\n",
      "Epoch 19, CIFAR-10 Batch 1:  Loss:     1.3939 Accuracy: 0.45240\n",
      "Epoch 20, CIFAR-10 Batch 1:  Loss:     1.3746 Accuracy: 0.45620\n",
      "Epoch 21, CIFAR-10 Batch 1:  Loss:     1.3493 Accuracy: 0.46200\n",
      "Epoch 22, CIFAR-10 Batch 1:  Loss:     1.3252 Accuracy: 0.47280\n",
      "Epoch 23, CIFAR-10 Batch 1:  Loss:     1.2994 Accuracy: 0.47540\n",
      "Epoch 24, CIFAR-10 Batch 1:  Loss:     1.2860 Accuracy: 0.47860\n",
      "Epoch 25, CIFAR-10 Batch 1:  Loss:     1.2772 Accuracy: 0.48000\n",
      "Epoch 26, CIFAR-10 Batch 1:  Loss:     1.2471 Accuracy: 0.48700\n",
      "Epoch 27, CIFAR-10 Batch 1:  Loss:     1.2168 Accuracy: 0.49260\n",
      "Epoch 28, CIFAR-10 Batch 1:  Loss:     1.2019 Accuracy: 0.49700\n",
      "Epoch 29, CIFAR-10 Batch 1:  Loss:     1.1923 Accuracy: 0.49540\n",
      "Epoch 30, CIFAR-10 Batch 1:  Loss:     1.1948 Accuracy: 0.49140\n",
      "Epoch 31, CIFAR-10 Batch 1:  Loss:     1.2205 Accuracy: 0.48000\n",
      "Epoch 32, CIFAR-10 Batch 1:  Loss:     1.1786 Accuracy: 0.48820\n",
      "Epoch 33, CIFAR-10 Batch 1:  Loss:     1.1413 Accuracy: 0.49460\n",
      "Epoch 34, CIFAR-10 Batch 1:  Loss:     1.1246 Accuracy: 0.49960\n",
      "Epoch 35, CIFAR-10 Batch 1:  Loss:     1.1138 Accuracy: 0.50460\n",
      "Epoch 36, CIFAR-10 Batch 1:  Loss:     1.1062 Accuracy: 0.50340\n",
      "Epoch 37, CIFAR-10 Batch 1:  Loss:     1.0981 Accuracy: 0.50380\n",
      "Epoch 38, CIFAR-10 Batch 1:  Loss:     1.0855 Accuracy: 0.50360\n",
      "Epoch 39, CIFAR-10 Batch 1:  Loss:     1.0745 Accuracy: 0.50540\n",
      "Epoch 40, CIFAR-10 Batch 1:  Loss:     1.0682 Accuracy: 0.50640\n",
      "Epoch 41, CIFAR-10 Batch 1:  Loss:     1.0645 Accuracy: 0.50600\n",
      "Epoch 42, CIFAR-10 Batch 1:  Loss:     1.0479 Accuracy: 0.50780\n",
      "Epoch 43, CIFAR-10 Batch 1:  Loss:     1.0197 Accuracy: 0.51320\n",
      "Epoch 44, CIFAR-10 Batch 1:  Loss:     1.0069 Accuracy: 0.51480\n",
      "Epoch 45, CIFAR-10 Batch 1:  Loss:     1.0006 Accuracy: 0.51220\n",
      "Epoch 46, CIFAR-10 Batch 1:  Loss:     0.9886 Accuracy: 0.51300\n",
      "Epoch 47, CIFAR-10 Batch 1:  Loss:     0.9752 Accuracy: 0.51320\n",
      "Epoch 48, CIFAR-10 Batch 1:  Loss:     0.9654 Accuracy: 0.51500\n",
      "Epoch 49, CIFAR-10 Batch 1:  Loss:     0.9539 Accuracy: 0.51420\n",
      "Epoch 50, CIFAR-10 Batch 1:  Loss:     0.9434 Accuracy: 0.51400\n"
     ]
    }
   ],
   "source": [
    "\"\"\"\n",
    "DON'T MODIFY ANYTHING IN THIS CELL\n",
    "\"\"\"\n",
    "print('Checking the Training on a Single Batch...')\n",
    "with tf.Session() as sess:\n",
    "    # Initializing the variables\n",
    "    sess.run(tf.global_variables_initializer())\n",
    "    \n",
    "    # Training cycle\n",
    "    for epoch in range(epochs):\n",
    "        batch_i = 1\n",
    "        for batch_features, batch_labels in helper.load_preprocess_training_batch(batch_i, batch_size):\n",
    "            train_neural_network(sess, optimizer, keep_probability, batch_features, batch_labels)\n",
    "        print('Epoch {:>2}, CIFAR-10 Batch {}:  '.format(epoch + 1, batch_i), end='')\n",
    "        print_stats(sess, batch_features, batch_labels, cost, accuracy)"
   ]
  },
  {
   "cell_type": "markdown",
   "metadata": {
    "deletable": true,
    "editable": true
   },
   "source": [
    "### Fully Train the Model\n",
    "Now that you got a good accuracy with a single CIFAR-10 batch, try it with all five batches."
   ]
  },
  {
   "cell_type": "code",
   "execution_count": 284,
   "metadata": {
    "collapsed": false,
    "deletable": true,
    "editable": true
   },
   "outputs": [
    {
     "name": "stdout",
     "output_type": "stream",
     "text": [
      "Training...\n",
      "Epoch  1, CIFAR-10 Batch 1:  Loss:     2.5745 Accuracy: 0.08620\n",
      "Epoch  1, CIFAR-10 Batch 2:  Loss:     2.3333 Accuracy: 0.13100\n",
      "Epoch  1, CIFAR-10 Batch 3:  Loss:     2.2929 Accuracy: 0.15240\n",
      "Epoch  1, CIFAR-10 Batch 4:  Loss:     2.2500 Accuracy: 0.16360\n",
      "Epoch  1, CIFAR-10 Batch 5:  Loss:     2.2020 Accuracy: 0.18560\n",
      "Epoch  2, CIFAR-10 Batch 1:  Loss:     2.1669 Accuracy: 0.21700\n",
      "Epoch  2, CIFAR-10 Batch 2:  Loss:     2.1143 Accuracy: 0.24260\n",
      "Epoch  2, CIFAR-10 Batch 3:  Loss:     2.0086 Accuracy: 0.26380\n",
      "Epoch  2, CIFAR-10 Batch 4:  Loss:     1.8991 Accuracy: 0.29580\n",
      "Epoch  2, CIFAR-10 Batch 5:  Loss:     1.8826 Accuracy: 0.29720\n",
      "Epoch  3, CIFAR-10 Batch 1:  Loss:     1.8422 Accuracy: 0.34800\n",
      "Epoch  3, CIFAR-10 Batch 2:  Loss:     1.7995 Accuracy: 0.36020\n",
      "Epoch  3, CIFAR-10 Batch 3:  Loss:     1.6961 Accuracy: 0.37400\n",
      "Epoch  3, CIFAR-10 Batch 4:  Loss:     1.6511 Accuracy: 0.38260\n",
      "Epoch  3, CIFAR-10 Batch 5:  Loss:     1.6221 Accuracy: 0.39400\n",
      "Epoch  4, CIFAR-10 Batch 1:  Loss:     1.6941 Accuracy: 0.41280\n",
      "Epoch  4, CIFAR-10 Batch 2:  Loss:     1.6271 Accuracy: 0.41580\n",
      "Epoch  4, CIFAR-10 Batch 3:  Loss:     1.5299 Accuracy: 0.43000\n",
      "Epoch  4, CIFAR-10 Batch 4:  Loss:     1.4676 Accuracy: 0.44220\n",
      "Epoch  4, CIFAR-10 Batch 5:  Loss:     1.5005 Accuracy: 0.43760\n",
      "Epoch  5, CIFAR-10 Batch 1:  Loss:     1.5917 Accuracy: 0.44420\n",
      "Epoch  5, CIFAR-10 Batch 2:  Loss:     1.5005 Accuracy: 0.45280\n",
      "Epoch  5, CIFAR-10 Batch 3:  Loss:     1.4308 Accuracy: 0.46600\n",
      "Epoch  5, CIFAR-10 Batch 4:  Loss:     1.4015 Accuracy: 0.45840\n",
      "Epoch  5, CIFAR-10 Batch 5:  Loss:     1.4046 Accuracy: 0.47100\n",
      "Epoch  6, CIFAR-10 Batch 1:  Loss:     1.4954 Accuracy: 0.47160\n",
      "Epoch  6, CIFAR-10 Batch 2:  Loss:     1.4189 Accuracy: 0.48460\n",
      "Epoch  6, CIFAR-10 Batch 3:  Loss:     1.3607 Accuracy: 0.48780\n",
      "Epoch  6, CIFAR-10 Batch 4:  Loss:     1.3252 Accuracy: 0.49160\n",
      "Epoch  6, CIFAR-10 Batch 5:  Loss:     1.3711 Accuracy: 0.48420\n",
      "Epoch  7, CIFAR-10 Batch 1:  Loss:     1.4247 Accuracy: 0.49780\n",
      "Epoch  7, CIFAR-10 Batch 2:  Loss:     1.3889 Accuracy: 0.49060\n",
      "Epoch  7, CIFAR-10 Batch 3:  Loss:     1.2987 Accuracy: 0.50980\n",
      "Epoch  7, CIFAR-10 Batch 4:  Loss:     1.2821 Accuracy: 0.50720\n",
      "Epoch  7, CIFAR-10 Batch 5:  Loss:     1.3160 Accuracy: 0.49720\n",
      "Epoch  8, CIFAR-10 Batch 1:  Loss:     1.3980 Accuracy: 0.50840\n",
      "Epoch  8, CIFAR-10 Batch 2:  Loss:     1.3573 Accuracy: 0.50040\n",
      "Epoch  8, CIFAR-10 Batch 3:  Loss:     1.2573 Accuracy: 0.51980\n",
      "Epoch  8, CIFAR-10 Batch 4:  Loss:     1.2384 Accuracy: 0.51800\n",
      "Epoch  8, CIFAR-10 Batch 5:  Loss:     1.2865 Accuracy: 0.50940\n",
      "Epoch  9, CIFAR-10 Batch 1:  Loss:     1.3563 Accuracy: 0.52020\n",
      "Epoch  9, CIFAR-10 Batch 2:  Loss:     1.3267 Accuracy: 0.51060\n",
      "Epoch  9, CIFAR-10 Batch 3:  Loss:     1.2306 Accuracy: 0.53020\n",
      "Epoch  9, CIFAR-10 Batch 4:  Loss:     1.2112 Accuracy: 0.53320\n",
      "Epoch  9, CIFAR-10 Batch 5:  Loss:     1.2425 Accuracy: 0.52660\n",
      "Epoch 10, CIFAR-10 Batch 1:  Loss:     1.3203 Accuracy: 0.53580\n",
      "Epoch 10, CIFAR-10 Batch 2:  Loss:     1.2980 Accuracy: 0.51820\n",
      "Epoch 10, CIFAR-10 Batch 3:  Loss:     1.2087 Accuracy: 0.53520\n",
      "Epoch 10, CIFAR-10 Batch 4:  Loss:     1.1710 Accuracy: 0.54040\n",
      "Epoch 10, CIFAR-10 Batch 5:  Loss:     1.2062 Accuracy: 0.53840\n",
      "Epoch 11, CIFAR-10 Batch 1:  Loss:     1.2866 Accuracy: 0.54480\n",
      "Epoch 11, CIFAR-10 Batch 2:  Loss:     1.2654 Accuracy: 0.52900\n",
      "Epoch 11, CIFAR-10 Batch 3:  Loss:     1.1725 Accuracy: 0.54480\n",
      "Epoch 11, CIFAR-10 Batch 4:  Loss:     1.1480 Accuracy: 0.54660\n",
      "Epoch 11, CIFAR-10 Batch 5:  Loss:     1.1812 Accuracy: 0.54520\n",
      "Epoch 12, CIFAR-10 Batch 1:  Loss:     1.2528 Accuracy: 0.55220\n",
      "Epoch 12, CIFAR-10 Batch 2:  Loss:     1.2318 Accuracy: 0.53540\n",
      "Epoch 12, CIFAR-10 Batch 3:  Loss:     1.1566 Accuracy: 0.55280\n",
      "Epoch 12, CIFAR-10 Batch 4:  Loss:     1.1230 Accuracy: 0.55020\n",
      "Epoch 12, CIFAR-10 Batch 5:  Loss:     1.1545 Accuracy: 0.55600\n",
      "Epoch 13, CIFAR-10 Batch 1:  Loss:     1.2225 Accuracy: 0.55780\n",
      "Epoch 13, CIFAR-10 Batch 2:  Loss:     1.2034 Accuracy: 0.54140\n",
      "Epoch 13, CIFAR-10 Batch 3:  Loss:     1.1306 Accuracy: 0.56060\n",
      "Epoch 13, CIFAR-10 Batch 4:  Loss:     1.0997 Accuracy: 0.55860\n",
      "Epoch 13, CIFAR-10 Batch 5:  Loss:     1.1286 Accuracy: 0.56420\n",
      "Epoch 14, CIFAR-10 Batch 1:  Loss:     1.1965 Accuracy: 0.56540\n",
      "Epoch 14, CIFAR-10 Batch 2:  Loss:     1.1764 Accuracy: 0.54980\n",
      "Epoch 14, CIFAR-10 Batch 3:  Loss:     1.1020 Accuracy: 0.57140\n",
      "Epoch 14, CIFAR-10 Batch 4:  Loss:     1.0745 Accuracy: 0.56800\n",
      "Epoch 14, CIFAR-10 Batch 5:  Loss:     1.1143 Accuracy: 0.57260\n",
      "Epoch 15, CIFAR-10 Batch 1:  Loss:     1.1771 Accuracy: 0.57040\n",
      "Epoch 15, CIFAR-10 Batch 2:  Loss:     1.1558 Accuracy: 0.55560\n",
      "Epoch 15, CIFAR-10 Batch 3:  Loss:     1.0724 Accuracy: 0.57300\n",
      "Epoch 15, CIFAR-10 Batch 4:  Loss:     1.0576 Accuracy: 0.57000\n",
      "Epoch 15, CIFAR-10 Batch 5:  Loss:     1.0972 Accuracy: 0.57420\n",
      "Epoch 16, CIFAR-10 Batch 1:  Loss:     1.1552 Accuracy: 0.57280\n",
      "Epoch 16, CIFAR-10 Batch 2:  Loss:     1.1516 Accuracy: 0.55440\n",
      "Epoch 16, CIFAR-10 Batch 3:  Loss:     1.0604 Accuracy: 0.57100\n",
      "Epoch 16, CIFAR-10 Batch 4:  Loss:     1.0436 Accuracy: 0.57500\n",
      "Epoch 16, CIFAR-10 Batch 5:  Loss:     1.0742 Accuracy: 0.58380\n",
      "Epoch 17, CIFAR-10 Batch 1:  Loss:     1.1468 Accuracy: 0.57400\n",
      "Epoch 17, CIFAR-10 Batch 2:  Loss:     1.1009 Accuracy: 0.57060\n",
      "Epoch 17, CIFAR-10 Batch 3:  Loss:     1.0477 Accuracy: 0.57620\n",
      "Epoch 17, CIFAR-10 Batch 4:  Loss:     1.0424 Accuracy: 0.57120\n",
      "Epoch 17, CIFAR-10 Batch 5:  Loss:     1.0652 Accuracy: 0.58360\n",
      "Epoch 18, CIFAR-10 Batch 1:  Loss:     1.1151 Accuracy: 0.58460\n",
      "Epoch 18, CIFAR-10 Batch 2:  Loss:     1.0869 Accuracy: 0.57520\n",
      "Epoch 18, CIFAR-10 Batch 3:  Loss:     1.0162 Accuracy: 0.58180\n",
      "Epoch 18, CIFAR-10 Batch 4:  Loss:     1.0266 Accuracy: 0.58340\n",
      "Epoch 18, CIFAR-10 Batch 5:  Loss:     1.0364 Accuracy: 0.58700\n",
      "Epoch 19, CIFAR-10 Batch 1:  Loss:     1.1092 Accuracy: 0.58460\n",
      "Epoch 19, CIFAR-10 Batch 2:  Loss:     1.0797 Accuracy: 0.57440\n",
      "Epoch 19, CIFAR-10 Batch 3:  Loss:     0.9991 Accuracy: 0.58580\n",
      "Epoch 19, CIFAR-10 Batch 4:  Loss:     1.0095 Accuracy: 0.58920\n",
      "Epoch 19, CIFAR-10 Batch 5:  Loss:     1.0139 Accuracy: 0.58740\n",
      "Epoch 20, CIFAR-10 Batch 1:  Loss:     1.0865 Accuracy: 0.58740\n",
      "Epoch 20, CIFAR-10 Batch 2:  Loss:     1.0588 Accuracy: 0.58240\n",
      "Epoch 20, CIFAR-10 Batch 3:  Loss:     0.9827 Accuracy: 0.58800\n",
      "Epoch 20, CIFAR-10 Batch 4:  Loss:     1.0029 Accuracy: 0.59000\n",
      "Epoch 20, CIFAR-10 Batch 5:  Loss:     0.9914 Accuracy: 0.59020\n",
      "Epoch 21, CIFAR-10 Batch 1:  Loss:     1.0698 Accuracy: 0.58860\n",
      "Epoch 21, CIFAR-10 Batch 2:  Loss:     1.0428 Accuracy: 0.58500\n",
      "Epoch 21, CIFAR-10 Batch 3:  Loss:     0.9624 Accuracy: 0.59080\n",
      "Epoch 21, CIFAR-10 Batch 4:  Loss:     0.9849 Accuracy: 0.59360\n",
      "Epoch 21, CIFAR-10 Batch 5:  Loss:     0.9784 Accuracy: 0.59380\n",
      "Epoch 22, CIFAR-10 Batch 1:  Loss:     1.0541 Accuracy: 0.59180\n",
      "Epoch 22, CIFAR-10 Batch 2:  Loss:     1.0262 Accuracy: 0.58560\n",
      "Epoch 22, CIFAR-10 Batch 3:  Loss:     0.9499 Accuracy: 0.59180\n",
      "Epoch 22, CIFAR-10 Batch 4:  Loss:     0.9736 Accuracy: 0.59640\n",
      "Epoch 22, CIFAR-10 Batch 5:  Loss:     0.9653 Accuracy: 0.59880\n",
      "Epoch 23, CIFAR-10 Batch 1:  Loss:     1.0387 Accuracy: 0.59140\n",
      "Epoch 23, CIFAR-10 Batch 2:  Loss:     1.0133 Accuracy: 0.58480\n",
      "Epoch 23, CIFAR-10 Batch 3:  Loss:     0.9397 Accuracy: 0.59060\n",
      "Epoch 23, CIFAR-10 Batch 4:  Loss:     0.9672 Accuracy: 0.59940\n",
      "Epoch 23, CIFAR-10 Batch 5:  Loss:     0.9554 Accuracy: 0.60320\n",
      "Epoch 24, CIFAR-10 Batch 1:  Loss:     1.0259 Accuracy: 0.59180\n",
      "Epoch 24, CIFAR-10 Batch 2:  Loss:     1.0031 Accuracy: 0.59000\n",
      "Epoch 24, CIFAR-10 Batch 3:  Loss:     0.9229 Accuracy: 0.59460\n",
      "Epoch 24, CIFAR-10 Batch 4:  Loss:     0.9520 Accuracy: 0.60060\n",
      "Epoch 24, CIFAR-10 Batch 5:  Loss:     0.9451 Accuracy: 0.60120\n",
      "Epoch 25, CIFAR-10 Batch 1:  Loss:     1.0082 Accuracy: 0.59280\n",
      "Epoch 25, CIFAR-10 Batch 2:  Loss:     0.9918 Accuracy: 0.58440\n",
      "Epoch 25, CIFAR-10 Batch 3:  Loss:     0.9041 Accuracy: 0.60000\n",
      "Epoch 25, CIFAR-10 Batch 4:  Loss:     0.9338 Accuracy: 0.60300\n",
      "Epoch 25, CIFAR-10 Batch 5:  Loss:     0.9276 Accuracy: 0.60400\n",
      "Epoch 26, CIFAR-10 Batch 1:  Loss:     0.9844 Accuracy: 0.59540\n",
      "Epoch 26, CIFAR-10 Batch 2:  Loss:     0.9679 Accuracy: 0.59280\n",
      "Epoch 26, CIFAR-10 Batch 3:  Loss:     0.8932 Accuracy: 0.60180\n",
      "Epoch 26, CIFAR-10 Batch 4:  Loss:     0.9306 Accuracy: 0.60500\n",
      "Epoch 26, CIFAR-10 Batch 5:  Loss:     0.9178 Accuracy: 0.60520\n",
      "Epoch 27, CIFAR-10 Batch 1:  Loss:     0.9722 Accuracy: 0.59720\n",
      "Epoch 27, CIFAR-10 Batch 2:  Loss:     0.9484 Accuracy: 0.59820\n",
      "Epoch 27, CIFAR-10 Batch 3:  Loss:     0.8822 Accuracy: 0.60420\n",
      "Epoch 27, CIFAR-10 Batch 4:  Loss:     0.9246 Accuracy: 0.60300\n",
      "Epoch 27, CIFAR-10 Batch 5:  Loss:     0.9054 Accuracy: 0.60480\n",
      "Epoch 28, CIFAR-10 Batch 1:  Loss:     0.9642 Accuracy: 0.59940\n",
      "Epoch 28, CIFAR-10 Batch 2:  Loss:     0.9297 Accuracy: 0.60360\n",
      "Epoch 28, CIFAR-10 Batch 3:  Loss:     0.8693 Accuracy: 0.60620\n",
      "Epoch 28, CIFAR-10 Batch 4:  Loss:     0.9149 Accuracy: 0.60240\n",
      "Epoch 28, CIFAR-10 Batch 5:  Loss:     0.9027 Accuracy: 0.61120\n",
      "Epoch 29, CIFAR-10 Batch 1:  Loss:     0.9561 Accuracy: 0.60260\n",
      "Epoch 29, CIFAR-10 Batch 2:  Loss:     0.9145 Accuracy: 0.60720\n",
      "Epoch 29, CIFAR-10 Batch 3:  Loss:     0.8543 Accuracy: 0.61380\n",
      "Epoch 29, CIFAR-10 Batch 4:  Loss:     0.8947 Accuracy: 0.61020\n",
      "Epoch 29, CIFAR-10 Batch 5:  Loss:     0.8963 Accuracy: 0.60740\n",
      "Epoch 30, CIFAR-10 Batch 1:  Loss:     0.9279 Accuracy: 0.60760\n",
      "Epoch 30, CIFAR-10 Batch 2:  Loss:     0.9047 Accuracy: 0.61340\n",
      "Epoch 30, CIFAR-10 Batch 3:  Loss:     0.8456 Accuracy: 0.61340\n",
      "Epoch 30, CIFAR-10 Batch 4:  Loss:     0.8848 Accuracy: 0.61260\n",
      "Epoch 30, CIFAR-10 Batch 5:  Loss:     0.8873 Accuracy: 0.61000\n",
      "Epoch 31, CIFAR-10 Batch 1:  Loss:     0.9168 Accuracy: 0.60920\n",
      "Epoch 31, CIFAR-10 Batch 2:  Loss:     0.8923 Accuracy: 0.61520\n",
      "Epoch 31, CIFAR-10 Batch 3:  Loss:     0.8335 Accuracy: 0.61760\n",
      "Epoch 31, CIFAR-10 Batch 4:  Loss:     0.8742 Accuracy: 0.61360\n",
      "Epoch 31, CIFAR-10 Batch 5:  Loss:     0.8779 Accuracy: 0.61140\n",
      "Epoch 32, CIFAR-10 Batch 1:  Loss:     0.9031 Accuracy: 0.61700\n",
      "Epoch 32, CIFAR-10 Batch 2:  Loss:     0.8759 Accuracy: 0.61680\n",
      "Epoch 32, CIFAR-10 Batch 3:  Loss:     0.8234 Accuracy: 0.61620\n",
      "Epoch 32, CIFAR-10 Batch 4:  Loss:     0.8642 Accuracy: 0.61560\n",
      "Epoch 32, CIFAR-10 Batch 5:  Loss:     0.8681 Accuracy: 0.61380\n",
      "Epoch 33, CIFAR-10 Batch 1:  Loss:     0.8889 Accuracy: 0.61600\n",
      "Epoch 33, CIFAR-10 Batch 2:  Loss:     0.8634 Accuracy: 0.61860\n",
      "Epoch 33, CIFAR-10 Batch 3:  Loss:     0.8155 Accuracy: 0.61920\n",
      "Epoch 33, CIFAR-10 Batch 4:  Loss:     0.8540 Accuracy: 0.62040\n",
      "Epoch 33, CIFAR-10 Batch 5:  Loss:     0.8565 Accuracy: 0.61360\n",
      "Epoch 34, CIFAR-10 Batch 1:  Loss:     0.8826 Accuracy: 0.61820\n",
      "Epoch 34, CIFAR-10 Batch 2:  Loss:     0.8594 Accuracy: 0.61640\n",
      "Epoch 34, CIFAR-10 Batch 3:  Loss:     0.8053 Accuracy: 0.62120\n",
      "Epoch 34, CIFAR-10 Batch 4:  Loss:     0.8452 Accuracy: 0.62260\n",
      "Epoch 34, CIFAR-10 Batch 5:  Loss:     0.8452 Accuracy: 0.61840\n",
      "Epoch 35, CIFAR-10 Batch 1:  Loss:     0.8739 Accuracy: 0.61960\n",
      "Epoch 35, CIFAR-10 Batch 2:  Loss:     0.8467 Accuracy: 0.61580\n",
      "Epoch 35, CIFAR-10 Batch 3:  Loss:     0.8007 Accuracy: 0.62180\n",
      "Epoch 35, CIFAR-10 Batch 4:  Loss:     0.8357 Accuracy: 0.62200\n",
      "Epoch 35, CIFAR-10 Batch 5:  Loss:     0.8342 Accuracy: 0.61900\n",
      "Epoch 36, CIFAR-10 Batch 1:  Loss:     0.8677 Accuracy: 0.61880\n",
      "Epoch 36, CIFAR-10 Batch 2:  Loss:     0.8380 Accuracy: 0.61660\n",
      "Epoch 36, CIFAR-10 Batch 3:  Loss:     0.7886 Accuracy: 0.62320\n",
      "Epoch 36, CIFAR-10 Batch 4:  Loss:     0.8382 Accuracy: 0.62320\n",
      "Epoch 36, CIFAR-10 Batch 5:  Loss:     0.8117 Accuracy: 0.61980\n",
      "Epoch 37, CIFAR-10 Batch 1:  Loss:     0.8577 Accuracy: 0.62320\n",
      "Epoch 37, CIFAR-10 Batch 2:  Loss:     0.8251 Accuracy: 0.61700\n",
      "Epoch 37, CIFAR-10 Batch 3:  Loss:     0.7690 Accuracy: 0.62540\n",
      "Epoch 37, CIFAR-10 Batch 4:  Loss:     0.8282 Accuracy: 0.62440\n",
      "Epoch 37, CIFAR-10 Batch 5:  Loss:     0.7967 Accuracy: 0.62720\n",
      "Epoch 38, CIFAR-10 Batch 1:  Loss:     0.8524 Accuracy: 0.62020\n",
      "Epoch 38, CIFAR-10 Batch 2:  Loss:     0.8063 Accuracy: 0.61860\n",
      "Epoch 38, CIFAR-10 Batch 3:  Loss:     0.7557 Accuracy: 0.62420\n",
      "Epoch 38, CIFAR-10 Batch 4:  Loss:     0.8063 Accuracy: 0.62460\n",
      "Epoch 38, CIFAR-10 Batch 5:  Loss:     0.7942 Accuracy: 0.62600\n",
      "Epoch 39, CIFAR-10 Batch 1:  Loss:     0.8443 Accuracy: 0.61980\n",
      "Epoch 39, CIFAR-10 Batch 2:  Loss:     0.7955 Accuracy: 0.62500\n",
      "Epoch 39, CIFAR-10 Batch 3:  Loss:     0.7551 Accuracy: 0.62320\n",
      "Epoch 39, CIFAR-10 Batch 4:  Loss:     0.7989 Accuracy: 0.62360\n",
      "Epoch 39, CIFAR-10 Batch 5:  Loss:     0.7804 Accuracy: 0.62700\n",
      "Epoch 40, CIFAR-10 Batch 1:  Loss:     0.8369 Accuracy: 0.61960\n",
      "Epoch 40, CIFAR-10 Batch 2:  Loss:     0.7828 Accuracy: 0.62500\n",
      "Epoch 40, CIFAR-10 Batch 3:  Loss:     0.7370 Accuracy: 0.62840\n",
      "Epoch 40, CIFAR-10 Batch 4:  Loss:     0.7898 Accuracy: 0.62540\n",
      "Epoch 40, CIFAR-10 Batch 5:  Loss:     0.7772 Accuracy: 0.62760\n",
      "Epoch 41, CIFAR-10 Batch 1:  Loss:     0.8401 Accuracy: 0.61980\n",
      "Epoch 41, CIFAR-10 Batch 2:  Loss:     0.7763 Accuracy: 0.62640\n",
      "Epoch 41, CIFAR-10 Batch 3:  Loss:     0.7346 Accuracy: 0.62260\n",
      "Epoch 41, CIFAR-10 Batch 4:  Loss:     0.7910 Accuracy: 0.62280\n",
      "Epoch 41, CIFAR-10 Batch 5:  Loss:     0.7945 Accuracy: 0.61820\n",
      "Epoch 42, CIFAR-10 Batch 1:  Loss:     0.8391 Accuracy: 0.61620\n",
      "Epoch 42, CIFAR-10 Batch 2:  Loss:     0.7685 Accuracy: 0.62540\n",
      "Epoch 42, CIFAR-10 Batch 3:  Loss:     0.7199 Accuracy: 0.61980\n",
      "Epoch 42, CIFAR-10 Batch 4:  Loss:     0.7852 Accuracy: 0.62000\n",
      "Epoch 42, CIFAR-10 Batch 5:  Loss:     0.7837 Accuracy: 0.62140\n",
      "Epoch 43, CIFAR-10 Batch 1:  Loss:     0.8258 Accuracy: 0.61740\n",
      "Epoch 43, CIFAR-10 Batch 2:  Loss:     0.7818 Accuracy: 0.62360\n",
      "Epoch 43, CIFAR-10 Batch 3:  Loss:     0.7107 Accuracy: 0.61880\n",
      "Epoch 43, CIFAR-10 Batch 4:  Loss:     0.7675 Accuracy: 0.62420\n",
      "Epoch 43, CIFAR-10 Batch 5:  Loss:     0.7504 Accuracy: 0.62940\n",
      "Epoch 44, CIFAR-10 Batch 1:  Loss:     0.8003 Accuracy: 0.62700\n",
      "Epoch 44, CIFAR-10 Batch 2:  Loss:     0.7869 Accuracy: 0.62160\n",
      "Epoch 44, CIFAR-10 Batch 3:  Loss:     0.6934 Accuracy: 0.62880\n",
      "Epoch 44, CIFAR-10 Batch 4:  Loss:     0.7632 Accuracy: 0.62380\n",
      "Epoch 44, CIFAR-10 Batch 5:  Loss:     0.7345 Accuracy: 0.63020\n",
      "Epoch 45, CIFAR-10 Batch 1:  Loss:     0.7911 Accuracy: 0.62960\n",
      "Epoch 45, CIFAR-10 Batch 2:  Loss:     0.7803 Accuracy: 0.62540\n",
      "Epoch 45, CIFAR-10 Batch 3:  Loss:     0.6946 Accuracy: 0.62620\n",
      "Epoch 45, CIFAR-10 Batch 4:  Loss:     0.7628 Accuracy: 0.62140\n",
      "Epoch 45, CIFAR-10 Batch 5:  Loss:     0.7230 Accuracy: 0.63100\n",
      "Epoch 46, CIFAR-10 Batch 1:  Loss:     0.7809 Accuracy: 0.62760\n",
      "Epoch 46, CIFAR-10 Batch 2:  Loss:     0.7646 Accuracy: 0.62400\n",
      "Epoch 46, CIFAR-10 Batch 3:  Loss:     0.6828 Accuracy: 0.62900\n",
      "Epoch 46, CIFAR-10 Batch 4:  Loss:     0.7516 Accuracy: 0.62080\n",
      "Epoch 46, CIFAR-10 Batch 5:  Loss:     0.7150 Accuracy: 0.62900\n",
      "Epoch 47, CIFAR-10 Batch 1:  Loss:     0.7806 Accuracy: 0.62880\n",
      "Epoch 47, CIFAR-10 Batch 2:  Loss:     0.7489 Accuracy: 0.62640\n",
      "Epoch 47, CIFAR-10 Batch 3:  Loss:     0.6742 Accuracy: 0.62420\n",
      "Epoch 47, CIFAR-10 Batch 4:  Loss:     0.7483 Accuracy: 0.61640\n",
      "Epoch 47, CIFAR-10 Batch 5:  Loss:     0.7222 Accuracy: 0.63000\n",
      "Epoch 48, CIFAR-10 Batch 1:  Loss:     0.7894 Accuracy: 0.62860\n",
      "Epoch 48, CIFAR-10 Batch 2:  Loss:     0.7265 Accuracy: 0.62760\n",
      "Epoch 48, CIFAR-10 Batch 3:  Loss:     0.6972 Accuracy: 0.61260\n",
      "Epoch 48, CIFAR-10 Batch 4:  Loss:     0.7631 Accuracy: 0.60480\n",
      "Epoch 48, CIFAR-10 Batch 5:  Loss:     0.7385 Accuracy: 0.62180\n",
      "Epoch 49, CIFAR-10 Batch 1:  Loss:     0.7906 Accuracy: 0.62300\n",
      "Epoch 49, CIFAR-10 Batch 2:  Loss:     0.7456 Accuracy: 0.61600\n",
      "Epoch 49, CIFAR-10 Batch 3:  Loss:     0.6876 Accuracy: 0.61400\n",
      "Epoch 49, CIFAR-10 Batch 4:  Loss:     0.7315 Accuracy: 0.61200\n",
      "Epoch 49, CIFAR-10 Batch 5:  Loss:     0.7247 Accuracy: 0.62340\n",
      "Epoch 50, CIFAR-10 Batch 1:  Loss:     0.7757 Accuracy: 0.62020\n",
      "Epoch 50, CIFAR-10 Batch 2:  Loss:     0.7181 Accuracy: 0.62880\n",
      "Epoch 50, CIFAR-10 Batch 3:  Loss:     0.6842 Accuracy: 0.61580\n",
      "Epoch 50, CIFAR-10 Batch 4:  Loss:     0.7323 Accuracy: 0.60880\n",
      "Epoch 50, CIFAR-10 Batch 5:  Loss:     0.7279 Accuracy: 0.62360\n"
     ]
    }
   ],
   "source": [
    "\"\"\"\n",
    "DON'T MODIFY ANYTHING IN THIS CELL\n",
    "\"\"\"\n",
    "save_model_path = './image_classification'\n",
    "\n",
    "print('Training...')\n",
    "with tf.Session() as sess:\n",
    "    # Initializing the variables\n",
    "    sess.run(tf.global_variables_initializer())\n",
    "    \n",
    "    # Training cycle\n",
    "    for epoch in range(epochs):\n",
    "        # Loop over all batches\n",
    "        n_batches = 5\n",
    "        for batch_i in range(1, n_batches + 1):\n",
    "            for batch_features, batch_labels in helper.load_preprocess_training_batch(batch_i, batch_size):\n",
    "                train_neural_network(sess, optimizer, keep_probability, batch_features, batch_labels)\n",
    "            print('Epoch {:>2}, CIFAR-10 Batch {}:  '.format(epoch + 1, batch_i), end='')\n",
    "            print_stats(sess, batch_features, batch_labels, cost, accuracy)\n",
    "            \n",
    "    # Save Model\n",
    "    saver = tf.train.Saver()\n",
    "    save_path = saver.save(sess, save_model_path)"
   ]
  },
  {
   "cell_type": "markdown",
   "metadata": {
    "deletable": true,
    "editable": true
   },
   "source": [
    "# Checkpoint\n",
    "The model has been saved to disk.\n",
    "## Test Model\n",
    "Test your model against the test dataset.  This will be your final accuracy. You should have an accuracy greater than 50%. If you don't, keep tweaking the model architecture and parameters."
   ]
  },
  {
   "cell_type": "code",
   "execution_count": 285,
   "metadata": {
    "collapsed": false,
    "deletable": true,
    "editable": true
   },
   "outputs": [
    {
     "name": "stdout",
     "output_type": "stream",
     "text": [
      "Testing Accuracy: 0.6144192397594452\n",
      "\n"
     ]
    },
    {
     "data": {
      "image/png": "[encoded data removed]",
      "text/plain": [
       "<matplotlib.figure.Figure at 0x7fa714b43f28>"
      ]
     },
     "metadata": {
      "image/png": {
       "height": 319,
       "width": 355
      }
     },
     "output_type": "display_data"
    }
   ],
   "source": [
    "\"\"\"\n",
    "DON'T MODIFY ANYTHING IN THIS CELL\n",
    "\"\"\"\n",
    "%matplotlib inline\n",
    "%config InlineBackend.figure_format = 'retina'\n",
    "\n",
    "import tensorflow as tf\n",
    "import pickle\n",
    "import helper\n",
    "import random\n",
    "\n",
    "# Set batch size if not already set\n",
    "try:\n",
    "    if batch_size:\n",
    "        pass\n",
    "except NameError:\n",
    "    batch_size = 64\n",
    "\n",
    "save_model_path = './image_classification'\n",
    "n_samples = 4\n",
    "top_n_predictions = 3\n",
    "\n",
    "def test_model():\n",
    "    \"\"\"\n",
    "    Test the saved model against the test dataset\n",
    "    \"\"\"\n",
    "\n",
    "    test_features, test_labels = pickle.load(open('preprocess_training.p', mode='rb'))\n",
    "    loaded_graph = tf.Graph()\n",
    "\n",
    "    with tf.Session(graph=loaded_graph) as sess:\n",
    "        # Load model\n",
    "        loader = tf.train.import_meta_graph(save_model_path + '.meta')\n",
    "        loader.restore(sess, save_model_path)\n",
    "\n",
    "        # Get Tensors from loaded model\n",
    "        loaded_x = loaded_graph.get_tensor_by_name('x:0')\n",
    "        loaded_y = loaded_graph.get_tensor_by_name('y:0')\n",
    "        loaded_keep_prob = loaded_graph.get_tensor_by_name('keep_prob:0')\n",
    "        loaded_logits = loaded_graph.get_tensor_by_name('logits:0')\n",
    "        loaded_acc = loaded_graph.get_tensor_by_name('accuracy:0')\n",
    "        \n",
    "        # Get accuracy in batches for memory limitations\n",
    "        test_batch_acc_total = 0\n",
    "        test_batch_count = 0\n",
    "        \n",
    "        for train_feature_batch, train_label_batch in helper.batch_features_labels(test_features, test_labels, batch_size):\n",
    "            test_batch_acc_total += sess.run(\n",
    "                loaded_acc,\n",
    "                feed_dict={loaded_x: train_feature_batch, loaded_y: train_label_batch, loaded_keep_prob: 1.0})\n",
    "            test_batch_count += 1\n",
    "\n",
    "        print('Testing Accuracy: {}\\n'.format(test_batch_acc_total/test_batch_count))\n",
    "\n",
    "        # Print Random Samples\n",
    "        random_test_features, random_test_labels = tuple(zip(*random.sample(list(zip(test_features, test_labels)), n_samples)))\n",
    "        random_test_predictions = sess.run(\n",
    "            tf.nn.top_k(tf.nn.softmax(loaded_logits), top_n_predictions),\n",
    "            feed_dict={loaded_x: random_test_features, loaded_y: random_test_labels, loaded_keep_prob: 1.0})\n",
    "        helper.display_image_predictions(random_test_features, random_test_labels, random_test_predictions)\n",
    "\n",
    "\n",
    "test_model()"
   ]
  },
  {
   "cell_type": "markdown",
   "metadata": {
    "deletable": true,
    "editable": true
   },
   "source": [
    "## Why 50-70% Accuracy?\n",
    "You might be wondering why you can't get an accuracy any higher. First things first, 50% isn't bad for a simple CNN.  Pure guessing would get you 10% accuracy. However, you might notice people are getting scores [well above 70%](http://rodrigob.github.io/are_we_there_yet/build/classification_datasets_results.html#43494641522d3130).  That's because we haven't taught you all there is to know about neural networks. We still need to cover a few more techniques.\n",
    "## Submitting This Project\n",
    "When submitting this project, make sure to run all the cells before saving the notebook.  Save the notebook file as \"dlnd_image_classification.ipynb\" and save it as a HTML file under \"File\" -> \"Download as\".  Include the \"helper.py\" and \"problem_unittests.py\" files in your submission."
   ]
  }
 ],
 "metadata": {
  "anaconda-cloud": {},
  "kernelspec": {
   "display_name": "Python 3",
   "language": "python",
   "name": "python3"
  },
  "language_info": {
   "codemirror_mode": {
    "name": "ipython",
    "version": 3
   },
   "file_extension": ".py",
   "mimetype": "text/x-python",
   "name": "python",
   "nbconvert_exporter": "python",
   "pygments_lexer": "ipython3",
   "version": "3.5.2"
  },
  "widgets": {
   "state": {},
   "version": "1.1.2"
  }
 },
 "nbformat": 4,
 "nbformat_minor": 0
}
